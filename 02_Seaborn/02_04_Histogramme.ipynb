{
 "cells": [
  {
   "cell_type": "markdown",
   "metadata": {},
   "source": [
    "## Import des librairies"
   ]
  },
  {
   "cell_type": "code",
   "execution_count": 5,
   "metadata": {},
   "outputs": [],
   "source": [
    "#indique à matplotlib d’afficher les graphiques “en ligne”\n",
    "%matplotlib inline\n",
    "\n",
    "# Importation des librairies pour la manipulation de données\n",
    "import numpy as np\n",
    "import pandas as pd\n",
    "\n",
    "# Importation de la librairie de visualisation\n",
    "import seaborn as sns \n",
    "\n",
    "import warnings\n",
    "warnings.filterwarnings(\"ignore\")"
   ]
  },
  {
   "cell_type": "markdown",
   "metadata": {},
   "source": [
    " "
   ]
  },
  {
   "cell_type": "markdown",
   "metadata": {},
   "source": [
    "## Import des données"
   ]
  },
  {
   "cell_type": "code",
   "execution_count": 6,
   "metadata": {},
   "outputs": [
    {
     "data": {
      "text/html": [
       "<div>\n",
       "<style scoped>\n",
       "    .dataframe tbody tr th:only-of-type {\n",
       "        vertical-align: middle;\n",
       "    }\n",
       "\n",
       "    .dataframe tbody tr th {\n",
       "        vertical-align: top;\n",
       "    }\n",
       "\n",
       "    .dataframe thead th {\n",
       "        text-align: right;\n",
       "    }\n",
       "</style>\n",
       "<table border=\"1\" class=\"dataframe\">\n",
       "  <thead>\n",
       "    <tr style=\"text-align: right;\">\n",
       "      <th></th>\n",
       "      <th>id_salarié</th>\n",
       "      <th>Contrat</th>\n",
       "      <th>Durée hebdo</th>\n",
       "      <th>Salaire base mensuel</th>\n",
       "      <th>%variable_moyen</th>\n",
       "      <th>Augmentation</th>\n",
       "      <th>Promotion</th>\n",
       "      <th>Ancienneté_an</th>\n",
       "      <th>Distance domicile/Travail</th>\n",
       "      <th>Service</th>\n",
       "      <th>Niveau de satisfaction</th>\n",
       "      <th>Type Contrat</th>\n",
       "      <th>Age</th>\n",
       "    </tr>\n",
       "  </thead>\n",
       "  <tbody>\n",
       "    <tr>\n",
       "      <th>0</th>\n",
       "      <td>1</td>\n",
       "      <td>CDI</td>\n",
       "      <td>35</td>\n",
       "      <td>9894.7000</td>\n",
       "      <td>13</td>\n",
       "      <td>0.0</td>\n",
       "      <td>0.0</td>\n",
       "      <td>22.5</td>\n",
       "      <td>69</td>\n",
       "      <td>Technique</td>\n",
       "      <td>60</td>\n",
       "      <td>Cadre</td>\n",
       "      <td>46</td>\n",
       "    </tr>\n",
       "    <tr>\n",
       "      <th>1</th>\n",
       "      <td>2</td>\n",
       "      <td>CDI</td>\n",
       "      <td>35</td>\n",
       "      <td>4296.7167</td>\n",
       "      <td>39</td>\n",
       "      <td>0.0</td>\n",
       "      <td>1.0</td>\n",
       "      <td>10.8</td>\n",
       "      <td>32</td>\n",
       "      <td>Technique</td>\n",
       "      <td>39</td>\n",
       "      <td>Non Cadre</td>\n",
       "      <td>55</td>\n",
       "    </tr>\n",
       "    <tr>\n",
       "      <th>2</th>\n",
       "      <td>3</td>\n",
       "      <td>CDI</td>\n",
       "      <td>35</td>\n",
       "      <td>3705.2167</td>\n",
       "      <td>29</td>\n",
       "      <td>1.0</td>\n",
       "      <td>1.0</td>\n",
       "      <td>13.0</td>\n",
       "      <td>68</td>\n",
       "      <td>RH</td>\n",
       "      <td>62</td>\n",
       "      <td>Cadre</td>\n",
       "      <td>52</td>\n",
       "    </tr>\n",
       "    <tr>\n",
       "      <th>3</th>\n",
       "      <td>4</td>\n",
       "      <td>CDI</td>\n",
       "      <td>35</td>\n",
       "      <td>1697.1500</td>\n",
       "      <td>17</td>\n",
       "      <td>1.0</td>\n",
       "      <td>0.0</td>\n",
       "      <td>21.7</td>\n",
       "      <td>59</td>\n",
       "      <td>Technique</td>\n",
       "      <td>98</td>\n",
       "      <td>Non Cadre</td>\n",
       "      <td>58</td>\n",
       "    </tr>\n",
       "    <tr>\n",
       "      <th>4</th>\n",
       "      <td>5</td>\n",
       "      <td>CDD</td>\n",
       "      <td>35</td>\n",
       "      <td>2848.3000</td>\n",
       "      <td>15</td>\n",
       "      <td>1.0</td>\n",
       "      <td>0.0</td>\n",
       "      <td>3.3</td>\n",
       "      <td>15</td>\n",
       "      <td>R&amp;D</td>\n",
       "      <td>81</td>\n",
       "      <td>Non Cadre</td>\n",
       "      <td>39</td>\n",
       "    </tr>\n",
       "  </tbody>\n",
       "</table>\n",
       "</div>"
      ],
      "text/plain": [
       "   id_salarié Contrat  Durée hebdo  Salaire base mensuel  %variable_moyen  \\\n",
       "0           1     CDI           35             9894.7000               13   \n",
       "1           2     CDI           35             4296.7167               39   \n",
       "2           3     CDI           35             3705.2167               29   \n",
       "3           4     CDI           35             1697.1500               17   \n",
       "4           5     CDD           35             2848.3000               15   \n",
       "\n",
       "   Augmentation  Promotion  Ancienneté_an  Distance domicile/Travail  \\\n",
       "0           0.0        0.0           22.5                         69   \n",
       "1           0.0        1.0           10.8                         32   \n",
       "2           1.0        1.0           13.0                         68   \n",
       "3           1.0        0.0           21.7                         59   \n",
       "4           1.0        0.0            3.3                         15   \n",
       "\n",
       "     Service  Niveau de satisfaction Type Contrat  Age  \n",
       "0  Technique                      60        Cadre   46  \n",
       "1  Technique                      39    Non Cadre   55  \n",
       "2         RH                      62        Cadre   52  \n",
       "3  Technique                      98    Non Cadre   58  \n",
       "4        R&D                      81    Non Cadre   39  "
      ]
     },
     "execution_count": 6,
     "metadata": {},
     "output_type": "execute_result"
    }
   ],
   "source": [
    "CheminFichier = r'Data\\Dataset_Employes.xlsx'\n",
    "Dataset_Employes = pd.read_excel(CheminFichier)\n",
    "Dataset_Employes.head()"
   ]
  },
  {
   "cell_type": "markdown",
   "metadata": {},
   "source": [
    "# Histogramme"
   ]
  },
  {
   "cell_type": "code",
   "execution_count": 7,
   "metadata": {},
   "outputs": [
    {
     "data": {
      "text/plain": [
       "<AxesSubplot:xlabel='Niveau de satisfaction', ylabel='Density'>"
      ]
     },
     "execution_count": 7,
     "metadata": {},
     "output_type": "execute_result"
    },
    {
     "data": {
      "image/png": "[encoded data removed]",
      "text/plain": [
       "<Figure size 432x288 with 1 Axes>"
      ]
     },
     "metadata": {
      "needs_background": "light"
     },
     "output_type": "display_data"
    }
   ],
   "source": [
    "sns.distplot(Dataset_Employes['Niveau de satisfaction'])"
   ]
  },
  {
   "cell_type": "markdown",
   "metadata": {},
   "source": [
    "  \n",
    "      "
   ]
  },
  {
   "cell_type": "code",
   "execution_count": 8,
   "metadata": {},
   "outputs": [
    {
     "data": {
      "text/plain": [
       "<AxesSubplot:xlabel='Niveau de satisfaction', ylabel='Density'>"
      ]
     },
     "execution_count": 8,
     "metadata": {},
     "output_type": "execute_result"
    },
    {
     "data": {
      "image/png": "[encoded data removed]",
      "text/plain": [
       "<Figure size 432x288 with 1 Axes>"
      ]
     },
     "metadata": {
      "needs_background": "light"
     },
     "output_type": "display_data"
    }
   ],
   "source": [
    "#En choisissant le nombre de barre à 20\n",
    "sns.distplot(Dataset_Employes['Niveau de satisfaction'], bins=20)"
   ]
  },
  {
   "cell_type": "code",
   "execution_count": 9,
   "metadata": {},
   "outputs": [
    {
     "data": {
      "text/plain": [
       "<AxesSubplot:xlabel='Niveau de satisfaction'>"
      ]
     },
     "execution_count": 9,
     "metadata": {},
     "output_type": "execute_result"
    },
    {
     "data": {
      "image/png": "[encoded data removed]",
      "text/plain": [
       "<Figure size 432x288 with 1 Axes>"
      ]
     },
     "metadata": {
      "needs_background": "light"
     },
     "output_type": "display_data"
    }
   ],
   "source": [
    "#visualisation sans le Kernel Density Estimator (KDE)\n",
    "sns.distplot(Dataset_Employes['Niveau de satisfaction'], kde=False, bins=20)"
   ]
  }
 ],
 "metadata": {
  "kernelspec": {
   "display_name": "Python 3 (ipykernel)",
   "language": "python",
   "name": "python3"
  },
  "language_info": {
   "codemirror_mode": {
    "name": "ipython",
    "version": 3
   },
   "file_extension": ".py",
   "mimetype": "text/x-python",
   "name": "python",
   "nbconvert_exporter": "python",
   "pygments_lexer": "ipython3",
   "version": "3.9.12"
  },
  "toc": {
   "base_numbering": 1,
   "nav_menu": {},
   "number_sections": true,
   "sideBar": true,
   "skip_h1_title": false,
   "title_cell": "Table of Contents",
   "title_sidebar": "Contents",
   "toc_cell": false,
   "toc_position": {},
   "toc_section_display": true,
   "toc_window_display": false
  }
 },
 "nbformat": 4,
 "nbformat_minor": 4
}
